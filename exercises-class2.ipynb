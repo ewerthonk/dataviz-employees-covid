{
 "cells": [
  {
   "cell_type": "markdown",
   "id": "27db421d",
   "metadata": {},
   "source": [
    "### Aula 2: Exercícios\n",
    "\n",
    "Para estes exercícios, iremos utilizar duas bases:\n",
    "\n",
    "1) base fictícia de funcionários criada por cientistas de dados da IBM.\n",
    "\n",
    "**Variáveis:**\n",
    "- **Age:** Idade\n",
    "- **Attrition:** Se saiu da empresa (Sim ou não)\n",
    "- **BusinessTravel:** Frequência de viagens a trabalho\n",
    "- **DailyRate:** Custo do funcionário por dia\n",
    "- **Department:** Departamento\n",
    "- **DistanceFromHome:** Distância do trabalho até a casa do funcionário\n",
    "- **Education:** Nível de educação:\n",
    "    - 1: 'Below College'\n",
    "    - 2: 'College'\n",
    "    - 3: 'Bachelor'\n",
    "    - 4: 'Master'\n",
    "    - 5: 'Doctor'\n",
    "- **EducationField:** Área da educação\n",
    "- **EmployeeNumber:** ID do funcionário\n",
    "- **EnvironmentSatisfaction:** Satisfação com o ambiente de trabalho:\n",
    "    - 1: 'Low'\n",
    "    - 2: 'Medium'\n",
    "    - 3: 'High'\n",
    "    - 4: 'Very High'\n",
    "- **Gender:** Gênero\n",
    "- **HourlyRate:** Valor/hora\n",
    "- **JobInvolvement:** Nível de envolvimento com o trabalho (psicologica e emocionalmente):\n",
    "    - 1: 'Low'\n",
    "    - 2: 'Medium'\n",
    "    - 3: 'High'\n",
    "    - 4: 'Very High'\n",
    "- **JobLevel:** Nível do funcionário\n",
    "- **JobRole:** Cargo\n",
    "- **JobSatisfaction:** Nível de satisfação com o trabalho:\n",
    "    - 1: 'Low'\n",
    "    - 2: 'Medium'\n",
    "    - 3: 'High'\n",
    "    - 4: 'Very High'\n",
    "- **MaritalStatus:** Estado Civil\n",
    "- **NumCompaniesWorked:** Número de empresas que já trabalhou\n",
    "- **PercentSalaryHike:** Aumento salarial (%)\n",
    "- **PerformanceRating:** Nível de performance:\n",
    "    - 1: 'Low'\n",
    "    - 2: 'Good'\n",
    "    - 3: 'Excellent'\n",
    "    - 4: 'Outstanding'\n",
    "- **RelationshipSatisfaction:** Satisfação de relacionamento:\n",
    "    - 1: 'Low'\n",
    "    - 2: 'Medium'\n",
    "    - 3: 'High'\n",
    "    - 4: 'Very High'\n",
    "- **TotalWorkingYears:** Número de anos trabalhados\n",
    "- **TrainingTimesLastYear:** Número de treinamentos no ano anterior\n",
    "- **WorkLifeBalance:** Equilíbrio da vida profissional\n",
    "    - 1: 'Bad'\n",
    "    - 2: 'Good'\n",
    "    - 3: 'Better'\n",
    "    - 4: 'Best'\n",
    "- **YearsAtCompany:** Anos na empresa\n",
    "- **YearsInCurrentRole:** Anos na posição atual\n",
    "- **YearsSinceLastPromotion:** Anos desde a última promoção\n",
    "- **YearsWithCurrManager:** Anos com o mesmo gestor\n",
    "\n",
    "2) Base de dados de casos e óbitos de covid no estado de SP.\n",
    "\n",
    "- **nome_munic:** Nome do município\n",
    "- **codigo_ibge:** Código do município no IBGE (7 dígitos)\n",
    "- **casos_novos:** Casos novos registrados na data\n",
    "- **obitos_novos:** Óbitos novos registrados na data\n",
    "- **nome_drs:** Nome do Dpto. Regional de Saúde\n",
    "- **cod_drs:** Código do Dpto. Regional de Saúde\n",
    "- **pop:** População Estimada (fonte: SEADE)\n",
    "- **pop60:** População acima de 60 anos (fonte: SEADE)\n",
    "- **ano_mes:** Ano e mês dos dados"
   ]
  },
  {
   "cell_type": "code",
   "execution_count": 7,
   "id": "cc8717bc",
   "metadata": {},
   "outputs": [],
   "source": [
    "import pandas as pd\n",
    "import numpy as np\n",
    "import matplotlib.pyplot as plt"
   ]
  },
  {
   "cell_type": "code",
   "execution_count": 8,
   "id": "cd39ba13",
   "metadata": {},
   "outputs": [],
   "source": [
    "df1 = pd.read_csv('./data/IBM_Employees.csv')"
   ]
  },
  {
   "cell_type": "code",
   "execution_count": 9,
   "id": "0a4730cc",
   "metadata": {},
   "outputs": [],
   "source": [
    "df2 = pd.read_csv('./data/dados_covid_sp_20.csv')"
   ]
  },
  {
   "cell_type": "markdown",
   "id": "272987e1",
   "metadata": {},
   "source": [
    "## Exercício 1:\n",
    "Utilizando a base de dados de covid:\n",
    "\n",
    "**a)** Faça um gráfico de barras mostrando o total de óbitos (considerando todos os meses) para todos os DRS, excluindo a Grande São Paulo. Coloque título no gráfico e nos eixos, defina um tamanho de imagem bom e intercale as barras com as cores 'red' e 'green'."
   ]
  },
  {
   "cell_type": "code",
   "execution_count": 11,
   "id": "1121e3b9",
   "metadata": {},
   "outputs": [
    {
     "data": {
      "image/png": "[encoded data removed]",
      "text/plain": [
       "<Figure size 1152x432 with 1 Axes>"
      ]
     },
     "metadata": {
      "needs_background": "light"
     },
     "output_type": "display_data"
    }
   ],
   "source": [
    "filtro_a = (df2['nome_drs'] != 'Grande São Paulo')\n",
    "\n",
    "df2[filtro_a].groupby('nome_drs').sum().plot(y='obitos_novos', kind='bar',\n",
    "                                           figsize=(16,6), xlabel='DRS',\n",
    "                                           ylabel='Total de Óbitos', title='Título',\n",
    "                                           color=('red', 'green'))\n",
    "\n",
    "plt.show()"
   ]
  },
  {
   "cell_type": "markdown",
   "id": "5889d8f5",
   "metadata": {},
   "source": [
    "**b)**  Faça um gráfico de barras horizontal mostrando o total de óbitos no mês de abril para 3 DRS da sua escolha. Coloque título no gráfico e nos eixos, defina um tamanho de imagem bom."
   ]
  },
  {
   "cell_type": "code",
   "execution_count": 12,
   "id": "25e80c03",
   "metadata": {},
   "outputs": [
    {
     "data": {
      "text/html": [
       "<div>\n",
       "<style scoped>\n",
       "    .dataframe tbody tr th:only-of-type {\n",
       "        vertical-align: middle;\n",
       "    }\n",
       "\n",
       "    .dataframe tbody tr th {\n",
       "        vertical-align: top;\n",
       "    }\n",
       "\n",
       "    .dataframe thead th {\n",
       "        text-align: right;\n",
       "    }\n",
       "</style>\n",
       "<table border=\"1\" class=\"dataframe\">\n",
       "  <thead>\n",
       "    <tr style=\"text-align: right;\">\n",
       "      <th></th>\n",
       "      <th>nome_munic</th>\n",
       "      <th>codigo_ibge</th>\n",
       "      <th>nome_drs</th>\n",
       "      <th>cod_drs</th>\n",
       "      <th>pop</th>\n",
       "      <th>pop_60</th>\n",
       "      <th>ano_mes</th>\n",
       "      <th>casos_novos</th>\n",
       "      <th>obitos_novos</th>\n",
       "    </tr>\n",
       "  </thead>\n",
       "  <tbody>\n",
       "    <tr>\n",
       "      <th>2</th>\n",
       "      <td>Adamantina</td>\n",
       "      <td>3500105</td>\n",
       "      <td>Marília</td>\n",
       "      <td>5.0</td>\n",
       "      <td>33894.0</td>\n",
       "      <td>7398.0</td>\n",
       "      <td>2020-04</td>\n",
       "      <td>5</td>\n",
       "      <td>0</td>\n",
       "    </tr>\n",
       "    <tr>\n",
       "      <th>7</th>\n",
       "      <td>Adolfo</td>\n",
       "      <td>3500204</td>\n",
       "      <td>São José do Rio Preto</td>\n",
       "      <td>15.0</td>\n",
       "      <td>3447.0</td>\n",
       "      <td>761.0</td>\n",
       "      <td>2020-04</td>\n",
       "      <td>1</td>\n",
       "      <td>0</td>\n",
       "    </tr>\n",
       "    <tr>\n",
       "      <th>12</th>\n",
       "      <td>Aguaí</td>\n",
       "      <td>3500303</td>\n",
       "      <td>São João da Boa Vista</td>\n",
       "      <td>14.0</td>\n",
       "      <td>35608.0</td>\n",
       "      <td>5245.0</td>\n",
       "      <td>2020-04</td>\n",
       "      <td>14</td>\n",
       "      <td>2</td>\n",
       "    </tr>\n",
       "    <tr>\n",
       "      <th>17</th>\n",
       "      <td>Agudos</td>\n",
       "      <td>3500709</td>\n",
       "      <td>Bauru</td>\n",
       "      <td>12.0</td>\n",
       "      <td>36134.0</td>\n",
       "      <td>5524.0</td>\n",
       "      <td>2020-04</td>\n",
       "      <td>15</td>\n",
       "      <td>1</td>\n",
       "    </tr>\n",
       "    <tr>\n",
       "      <th>22</th>\n",
       "      <td>Alambari</td>\n",
       "      <td>3500758</td>\n",
       "      <td>Sorocaba</td>\n",
       "      <td>6.0</td>\n",
       "      <td>5779.0</td>\n",
       "      <td>830.0</td>\n",
       "      <td>2020-04</td>\n",
       "      <td>1</td>\n",
       "      <td>0</td>\n",
       "    </tr>\n",
       "    <tr>\n",
       "      <th>...</th>\n",
       "      <td>...</td>\n",
       "      <td>...</td>\n",
       "      <td>...</td>\n",
       "      <td>...</td>\n",
       "      <td>...</td>\n",
       "      <td>...</td>\n",
       "      <td>...</td>\n",
       "      <td>...</td>\n",
       "      <td>...</td>\n",
       "    </tr>\n",
       "    <tr>\n",
       "      <th>3202</th>\n",
       "      <td>Águas de São Pedro</td>\n",
       "      <td>3500600</td>\n",
       "      <td>Piracicaba</td>\n",
       "      <td>11.0</td>\n",
       "      <td>3122.0</td>\n",
       "      <td>764.0</td>\n",
       "      <td>2020-04</td>\n",
       "      <td>1</td>\n",
       "      <td>0</td>\n",
       "    </tr>\n",
       "    <tr>\n",
       "      <th>3207</th>\n",
       "      <td>Álvares Florence</td>\n",
       "      <td>3501202</td>\n",
       "      <td>São José do Rio Preto</td>\n",
       "      <td>15.0</td>\n",
       "      <td>3621.0</td>\n",
       "      <td>991.0</td>\n",
       "      <td>2020-04</td>\n",
       "      <td>0</td>\n",
       "      <td>0</td>\n",
       "    </tr>\n",
       "    <tr>\n",
       "      <th>3212</th>\n",
       "      <td>Álvares Machado</td>\n",
       "      <td>3501301</td>\n",
       "      <td>Presidente Prudente</td>\n",
       "      <td>2.0</td>\n",
       "      <td>23789.0</td>\n",
       "      <td>4267.0</td>\n",
       "      <td>2020-04</td>\n",
       "      <td>1</td>\n",
       "      <td>0</td>\n",
       "    </tr>\n",
       "    <tr>\n",
       "      <th>3217</th>\n",
       "      <td>Álvaro de Carvalho</td>\n",
       "      <td>3501400</td>\n",
       "      <td>Marília</td>\n",
       "      <td>5.0</td>\n",
       "      <td>5044.0</td>\n",
       "      <td>583.0</td>\n",
       "      <td>2020-04</td>\n",
       "      <td>0</td>\n",
       "      <td>0</td>\n",
       "    </tr>\n",
       "    <tr>\n",
       "      <th>3222</th>\n",
       "      <td>Óleo</td>\n",
       "      <td>3533809</td>\n",
       "      <td>Marília</td>\n",
       "      <td>5.0</td>\n",
       "      <td>2527.0</td>\n",
       "      <td>597.0</td>\n",
       "      <td>2020-04</td>\n",
       "      <td>0</td>\n",
       "      <td>0</td>\n",
       "    </tr>\n",
       "  </tbody>\n",
       "</table>\n",
       "<p>645 rows × 9 columns</p>\n",
       "</div>"
      ],
      "text/plain": [
       "              nome_munic  codigo_ibge               nome_drs  cod_drs  \\\n",
       "2             Adamantina      3500105                Marília      5.0   \n",
       "7                 Adolfo      3500204  São José do Rio Preto     15.0   \n",
       "12                 Aguaí      3500303  São João da Boa Vista     14.0   \n",
       "17                Agudos      3500709                  Bauru     12.0   \n",
       "22              Alambari      3500758               Sorocaba      6.0   \n",
       "...                  ...          ...                    ...      ...   \n",
       "3202  Águas de São Pedro      3500600             Piracicaba     11.0   \n",
       "3207    Álvares Florence      3501202  São José do Rio Preto     15.0   \n",
       "3212     Álvares Machado      3501301    Presidente Prudente      2.0   \n",
       "3217  Álvaro de Carvalho      3501400                Marília      5.0   \n",
       "3222                Óleo      3533809                Marília      5.0   \n",
       "\n",
       "          pop  pop_60  ano_mes  casos_novos  obitos_novos  \n",
       "2     33894.0  7398.0  2020-04            5             0  \n",
       "7      3447.0   761.0  2020-04            1             0  \n",
       "12    35608.0  5245.0  2020-04           14             2  \n",
       "17    36134.0  5524.0  2020-04           15             1  \n",
       "22     5779.0   830.0  2020-04            1             0  \n",
       "...       ...     ...      ...          ...           ...  \n",
       "3202   3122.0   764.0  2020-04            1             0  \n",
       "3207   3621.0   991.0  2020-04            0             0  \n",
       "3212  23789.0  4267.0  2020-04            1             0  \n",
       "3217   5044.0   583.0  2020-04            0             0  \n",
       "3222   2527.0   597.0  2020-04            0             0  \n",
       "\n",
       "[645 rows x 9 columns]"
      ]
     },
     "execution_count": 12,
     "metadata": {},
     "output_type": "execute_result"
    }
   ],
   "source": [
    "df2[df2['ano_mes'] == '2020-04']"
   ]
  },
  {
   "cell_type": "code",
   "execution_count": 13,
   "id": "10d0f677",
   "metadata": {},
   "outputs": [
    {
     "data": {
      "text/html": [
       "<div>\n",
       "<style scoped>\n",
       "    .dataframe tbody tr th:only-of-type {\n",
       "        vertical-align: middle;\n",
       "    }\n",
       "\n",
       "    .dataframe tbody tr th {\n",
       "        vertical-align: top;\n",
       "    }\n",
       "\n",
       "    .dataframe thead th {\n",
       "        text-align: right;\n",
       "    }\n",
       "</style>\n",
       "<table border=\"1\" class=\"dataframe\">\n",
       "  <thead>\n",
       "    <tr style=\"text-align: right;\">\n",
       "      <th></th>\n",
       "      <th>nome_munic</th>\n",
       "      <th>codigo_ibge</th>\n",
       "      <th>nome_drs</th>\n",
       "      <th>cod_drs</th>\n",
       "      <th>pop</th>\n",
       "      <th>pop_60</th>\n",
       "      <th>ano_mes</th>\n",
       "      <th>casos_novos</th>\n",
       "      <th>obitos_novos</th>\n",
       "    </tr>\n",
       "  </thead>\n",
       "  <tbody>\n",
       "    <tr>\n",
       "      <th>17</th>\n",
       "      <td>Agudos</td>\n",
       "      <td>3500709</td>\n",
       "      <td>Bauru</td>\n",
       "      <td>12.0</td>\n",
       "      <td>36134.0</td>\n",
       "      <td>5524.0</td>\n",
       "      <td>2020-04</td>\n",
       "      <td>15</td>\n",
       "      <td>1</td>\n",
       "    </tr>\n",
       "    <tr>\n",
       "      <th>42</th>\n",
       "      <td>Alto Alegre</td>\n",
       "      <td>3501103</td>\n",
       "      <td>Araçatuba</td>\n",
       "      <td>7.0</td>\n",
       "      <td>4017.0</td>\n",
       "      <td>964.0</td>\n",
       "      <td>2020-04</td>\n",
       "      <td>0</td>\n",
       "      <td>0</td>\n",
       "    </tr>\n",
       "    <tr>\n",
       "      <th>67</th>\n",
       "      <td>Américo Brasiliense</td>\n",
       "      <td>3501707</td>\n",
       "      <td>Araraquara</td>\n",
       "      <td>8.0</td>\n",
       "      <td>40243.0</td>\n",
       "      <td>4465.0</td>\n",
       "      <td>2020-04</td>\n",
       "      <td>7</td>\n",
       "      <td>0</td>\n",
       "    </tr>\n",
       "    <tr>\n",
       "      <th>82</th>\n",
       "      <td>Andradina</td>\n",
       "      <td>3502101</td>\n",
       "      <td>Araçatuba</td>\n",
       "      <td>7.0</td>\n",
       "      <td>56054.0</td>\n",
       "      <td>10776.0</td>\n",
       "      <td>2020-04</td>\n",
       "      <td>11</td>\n",
       "      <td>0</td>\n",
       "    </tr>\n",
       "    <tr>\n",
       "      <th>92</th>\n",
       "      <td>Anhembi</td>\n",
       "      <td>3502309</td>\n",
       "      <td>Bauru</td>\n",
       "      <td>12.0</td>\n",
       "      <td>6672.0</td>\n",
       "      <td>975.0</td>\n",
       "      <td>2020-04</td>\n",
       "      <td>2</td>\n",
       "      <td>0</td>\n",
       "    </tr>\n",
       "    <tr>\n",
       "      <th>...</th>\n",
       "      <td>...</td>\n",
       "      <td>...</td>\n",
       "      <td>...</td>\n",
       "      <td>...</td>\n",
       "      <td>...</td>\n",
       "      <td>...</td>\n",
       "      <td>...</td>\n",
       "      <td>...</td>\n",
       "      <td>...</td>\n",
       "    </tr>\n",
       "    <tr>\n",
       "      <th>3032</th>\n",
       "      <td>Trabiju</td>\n",
       "      <td>3554755</td>\n",
       "      <td>Araraquara</td>\n",
       "      <td>8.0</td>\n",
       "      <td>1703.0</td>\n",
       "      <td>281.0</td>\n",
       "      <td>2020-04</td>\n",
       "      <td>0</td>\n",
       "      <td>0</td>\n",
       "    </tr>\n",
       "    <tr>\n",
       "      <th>3062</th>\n",
       "      <td>Turiúba</td>\n",
       "      <td>3555208</td>\n",
       "      <td>Araçatuba</td>\n",
       "      <td>7.0</td>\n",
       "      <td>1912.0</td>\n",
       "      <td>477.0</td>\n",
       "      <td>2020-04</td>\n",
       "      <td>0</td>\n",
       "      <td>0</td>\n",
       "    </tr>\n",
       "    <tr>\n",
       "      <th>3097</th>\n",
       "      <td>Uru</td>\n",
       "      <td>3555901</td>\n",
       "      <td>Bauru</td>\n",
       "      <td>12.0</td>\n",
       "      <td>1207.0</td>\n",
       "      <td>258.0</td>\n",
       "      <td>2020-04</td>\n",
       "      <td>0</td>\n",
       "      <td>0</td>\n",
       "    </tr>\n",
       "    <tr>\n",
       "      <th>3122</th>\n",
       "      <td>Valparaíso</td>\n",
       "      <td>3556305</td>\n",
       "      <td>Araçatuba</td>\n",
       "      <td>7.0</td>\n",
       "      <td>23988.0</td>\n",
       "      <td>3207.0</td>\n",
       "      <td>2020-04</td>\n",
       "      <td>0</td>\n",
       "      <td>0</td>\n",
       "    </tr>\n",
       "    <tr>\n",
       "      <th>3197</th>\n",
       "      <td>Águas de Santa Bárbara</td>\n",
       "      <td>3500550</td>\n",
       "      <td>Bauru</td>\n",
       "      <td>12.0</td>\n",
       "      <td>5931.0</td>\n",
       "      <td>1106.0</td>\n",
       "      <td>2020-04</td>\n",
       "      <td>0</td>\n",
       "      <td>0</td>\n",
       "    </tr>\n",
       "  </tbody>\n",
       "</table>\n",
       "<p>132 rows × 9 columns</p>\n",
       "</div>"
      ],
      "text/plain": [
       "                  nome_munic  codigo_ibge    nome_drs  cod_drs      pop  \\\n",
       "17                    Agudos      3500709       Bauru     12.0  36134.0   \n",
       "42               Alto Alegre      3501103   Araçatuba      7.0   4017.0   \n",
       "67       Américo Brasiliense      3501707  Araraquara      8.0  40243.0   \n",
       "82                 Andradina      3502101   Araçatuba      7.0  56054.0   \n",
       "92                   Anhembi      3502309       Bauru     12.0   6672.0   \n",
       "...                      ...          ...         ...      ...      ...   \n",
       "3032                 Trabiju      3554755  Araraquara      8.0   1703.0   \n",
       "3062                 Turiúba      3555208   Araçatuba      7.0   1912.0   \n",
       "3097                     Uru      3555901       Bauru     12.0   1207.0   \n",
       "3122              Valparaíso      3556305   Araçatuba      7.0  23988.0   \n",
       "3197  Águas de Santa Bárbara      3500550       Bauru     12.0   5931.0   \n",
       "\n",
       "       pop_60  ano_mes  casos_novos  obitos_novos  \n",
       "17     5524.0  2020-04           15             1  \n",
       "42      964.0  2020-04            0             0  \n",
       "67     4465.0  2020-04            7             0  \n",
       "82    10776.0  2020-04           11             0  \n",
       "92      975.0  2020-04            2             0  \n",
       "...       ...      ...          ...           ...  \n",
       "3032    281.0  2020-04            0             0  \n",
       "3062    477.0  2020-04            0             0  \n",
       "3097    258.0  2020-04            0             0  \n",
       "3122   3207.0  2020-04            0             0  \n",
       "3197   1106.0  2020-04            0             0  \n",
       "\n",
       "[132 rows x 9 columns]"
      ]
     },
     "execution_count": 13,
     "metadata": {},
     "output_type": "execute_result"
    }
   ],
   "source": [
    "filtro_b1 = (df2['nome_drs'].isin(('Araraquara', 'Araçatuba', 'Bauru')))\n",
    "filtro_b2 = (df2['ano_mes'] == '2020-04')\n",
    "\n",
    "df2[filtro_b1 & filtro_b2]"
   ]
  },
  {
   "cell_type": "code",
   "execution_count": 14,
   "id": "b6aa2042",
   "metadata": {
    "scrolled": true
   },
   "outputs": [
    {
     "data": {
      "text/plain": [
       "<AxesSubplot:title={'center':'Título Gráfico'}, xlabel='Título de X', ylabel='Título de Y'>"
      ]
     },
     "execution_count": 14,
     "metadata": {},
     "output_type": "execute_result"
    },
    {
     "data": {
      "image/png": "[encoded data removed]",
      "text/plain": [
       "<Figure size 1152x432 with 1 Axes>"
      ]
     },
     "metadata": {
      "needs_background": "light"
     },
     "output_type": "display_data"
    }
   ],
   "source": [
    "filtro_b1 = (df2['nome_drs'].isin(('Araraquara', 'Araçatuba', 'Bauru')))\n",
    "filtro_b2 = (df2['ano_mes'] == '2020-04')\n",
    "\n",
    "df2[filtro_b1 & filtro_b2].groupby('nome_drs').sum().plot(y='obitos_novos', kind='bar',\n",
    "                                           figsize=(16,6), xlabel='Título de X',\n",
    "                                           ylabel='Título de Y', title='Título Gráfico')"
   ]
  },
  {
   "cell_type": "markdown",
   "id": "cdcbe7ac",
   "metadata": {},
   "source": [
    "## Exercício 2\n",
    "\n",
    "**a)** Utilizando a base de dados da IBM, crie um histograma para as idades dos funcionários, separando por gênero."
   ]
  },
  {
   "cell_type": "code",
   "execution_count": 23,
   "id": "a6fb2adb",
   "metadata": {},
   "outputs": [
    {
     "data": {
      "text/plain": [
       "array(['Female', 'Male'], dtype=object)"
      ]
     },
     "execution_count": 23,
     "metadata": {},
     "output_type": "execute_result"
    }
   ],
   "source": [
    "df1['Gender'].unique()"
   ]
  },
  {
   "cell_type": "code",
   "execution_count": 35,
   "id": "71c2fb1a",
   "metadata": {},
   "outputs": [
    {
     "data": {
      "image/png": "[encoded data removed]",
      "text/plain": [
       "<Figure size 432x288 with 1 Axes>"
      ]
     },
     "metadata": {
      "needs_background": "light"
     },
     "output_type": "display_data"
    }
   ],
   "source": [
    "ax1 = df1[df1['Gender'] == 'Male'].plot(y='Age', kind='hist', alpha=.5)\n",
    "\n",
    "ax2 = df1[df1['Gender'] == 'Female'].plot(y='Age', kind='hist', alpha=.5, ax=ax1)\n",
    "\n",
    "plt.show()"
   ]
  },
  {
   "cell_type": "markdown",
   "id": "8c9a5551",
   "metadata": {},
   "source": [
    "**b)** Faça agora um boxplot das idades, por gênero."
   ]
  },
  {
   "cell_type": "code",
   "execution_count": 41,
   "id": "19ebc888",
   "metadata": {},
   "outputs": [
    {
     "data": {
      "image/png": "[encoded data removed]",
      "text/plain": [
       "<Figure size 432x288 with 1 Axes>"
      ]
     },
     "metadata": {
      "needs_background": "light"
     },
     "output_type": "display_data"
    },
    {
     "data": {
      "image/png": "[encoded data removed]",
      "text/plain": [
       "<Figure size 432x288 with 1 Axes>"
      ]
     },
     "metadata": {
      "needs_background": "light"
     },
     "output_type": "display_data"
    }
   ],
   "source": [
    "ax1 = df1[df1['Gender'] == 'Male'].plot(y='Age', kind='box')\n",
    "\n",
    "ax2 = df1[df1['Gender'] == 'Female'].plot(y='Age', kind='box')\n",
    "\n",
    "plt.show()"
   ]
  }
 ],
 "metadata": {
  "kernelspec": {
   "display_name": "Python 3 (ipykernel)",
   "language": "python",
   "name": "python3"
  },
  "language_info": {
   "codemirror_mode": {
    "name": "ipython",
    "version": 3
   },
   "file_extension": ".py",
   "mimetype": "text/x-python",
   "name": "python",
   "nbconvert_exporter": "python",
   "pygments_lexer": "ipython3",
   "version": "3.8.8"
  }
 },
 "nbformat": 4,
 "nbformat_minor": 5
}

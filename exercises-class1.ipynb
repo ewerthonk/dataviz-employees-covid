{
 "cells": [
  {
   "cell_type": "markdown",
   "id": "7c77593c",
   "metadata": {},
   "source": [
    "### Aula 1: Exercícios\n",
    "\n",
    "Para estes exercícios, iremos utilizar duas bases:\n",
    "\n",
    "1) base fictícia de funcionários criada por cientistas de dados da IBM.\n",
    "\n",
    "**Variáveis:**\n",
    "- **Age:** Idade\n",
    "- **Attrition:** Se saiu da empresa (Sim ou não)\n",
    "- **BusinessTravel:** Frequência de viagens a trabalho\n",
    "- **DailyRate:** Custo do funcionário por dia\n",
    "- **Department:** Departamento\n",
    "- **DistanceFromHome:** Distância do trabalho até a casa do funcionário\n",
    "- **Education:** Nível de educação:\n",
    "    - 1: 'Below College'\n",
    "    - 2: 'College'\n",
    "    - 3: 'Bachelor'\n",
    "    - 4: 'Master'\n",
    "    - 5: 'Doctor'\n",
    "- **EducationField:** Área da educação\n",
    "- **EmployeeNumber:** ID do funcionário\n",
    "- **EnvironmentSatisfaction:** Satisfação com o ambiente de trabalho:\n",
    "    - 1: 'Low'\n",
    "    - 2: 'Medium'\n",
    "    - 3: 'High'\n",
    "    - 4: 'Very High'\n",
    "- **Gender:** Gênero\n",
    "- **HourlyRate:** Valor/hora\n",
    "- **JobInvolvement:** Nível de envolvimento com o trabalho (psicologica e emocionalmente):\n",
    "    - 1: 'Low'\n",
    "    - 2: 'Medium'\n",
    "    - 3: 'High'\n",
    "    - 4: 'Very High'\n",
    "- **JobLevel:** Nível do funcionário\n",
    "- **JobRole:** Cargo\n",
    "- **JobSatisfaction:** Nível de satisfação com o trabalho:\n",
    "    - 1: 'Low'\n",
    "    - 2: 'Medium'\n",
    "    - 3: 'High'\n",
    "    - 4: 'Very High'\n",
    "- **MaritalStatus:** Estado Civil\n",
    "- **NumCompaniesWorked:** Número de empresas que já trabalhou\n",
    "- **PercentSalaryHike:** Aumento salarial (%)\n",
    "- **PerformanceRating:** Nível de performance:\n",
    "    - 1: 'Low'\n",
    "    - 2: 'Good'\n",
    "    - 3: 'Excellent'\n",
    "    - 4: 'Outstanding'\n",
    "- **RelationshipSatisfaction:** Satisfação de relacionamento:\n",
    "    - 1: 'Low'\n",
    "    - 2: 'Medium'\n",
    "    - 3: 'High'\n",
    "    - 4: 'Very High'\n",
    "- **TotalWorkingYears:** Número de anos trabalhados\n",
    "- **TrainingTimesLastYear:** Número de treinamentos no ano anterior\n",
    "- **WorkLifeBalance:** Equilíbrio da vida profissional\n",
    "    - 1: 'Bad'\n",
    "    - 2: 'Good'\n",
    "    - 3: 'Better'\n",
    "    - 4: 'Best'\n",
    "- **YearsAtCompany:** Anos na empresa\n",
    "- **YearsInCurrentRole:** Anos na posição atual\n",
    "- **YearsSinceLastPromotion:** Anos desde a última promoção\n",
    "- **YearsWithCurrManager:** Anos com o mesmo gestor\n",
    "\n",
    "2) Base de dados de casos e óbitos de covid no estado de SP.\n",
    "\n",
    "- **nome_munic:** Nome do município\n",
    "- **codigo_ibge:** Código do município no IBGE (7 dígitos)\n",
    "- **casos_novos:** Casos novos registrados na data\n",
    "- **obitos_novos:** Óbitos novos registrados na data\n",
    "- **nome_drs:** Nome do Dpto. Regional de Saúde\n",
    "- **cod_drs:** Código do Dpto. Regional de Saúde\n",
    "- **pop:** População Estimada (fonte: SEADE)\n",
    "- **pop60:** População acima de 60 anos (fonte: SEADE)\n",
    "- **ano_mes:** Ano e mês dos dados"
   ]
  },
  {
   "cell_type": "code",
   "execution_count": 2,
   "id": "842fe8d6",
   "metadata": {},
   "outputs": [],
   "source": [
    "import pandas as pd\n",
    "import numpy as np"
   ]
  },
  {
   "cell_type": "code",
   "execution_count": 3,
   "id": "3ea58042",
   "metadata": {},
   "outputs": [],
   "source": [
    "df1 = pd.read_csv('./data/IBM_Employees.csv')"
   ]
  },
  {
   "cell_type": "code",
   "execution_count": 4,
   "id": "ac6e66b4",
   "metadata": {},
   "outputs": [],
   "source": [
    "df2 = pd.read_csv('./data/dados_covid_sp_20.csv')"
   ]
  },
  {
   "cell_type": "markdown",
   "id": "3f34fc8b",
   "metadata": {},
   "source": [
    "## Exercício 1:\n",
    "Utilizando a base de dados da IBM:\n",
    "\n",
    "**a)** Faça um gráfico de dispersão (scatter plot) com a variável *YearsAtCompany* no eixo X e a variável *DailyRate* no eixo Y. Coloque o título \"YearsAtCompany x DailyRate\" e determine o tamanho da imagem como (10,5)."
   ]
  },
  {
   "cell_type": "code",
   "execution_count": null,
   "id": "553827d5",
   "metadata": {},
   "outputs": [],
   "source": []
  },
  {
   "cell_type": "markdown",
   "id": "05c03612",
   "metadata": {},
   "source": [
    "**b)** Repita o gráfico do item a, identificando as observações do gênero feminino com a cor vermelha e do gênero masculino com a cor verde. Não esqueça de inserir legenda para as cores."
   ]
  },
  {
   "cell_type": "code",
   "execution_count": null,
   "id": "13d1100b",
   "metadata": {},
   "outputs": [],
   "source": []
  },
  {
   "cell_type": "markdown",
   "id": "814309e1",
   "metadata": {},
   "source": [
    "**c)** Repita o gráfico do item a, porém agora identificando os funcionários pela variável 'JobSatisfaction', \n",
    "utilizando a seguinte escala de cores:\n",
    "- cor: '#FFE4E1' para 'Low' \n",
    "- cor: '#FFB6C1' para 'Medium' \n",
    "- cor: '#FF69B4' para 'High' \n",
    "- cor: '#C71585' para 'Very High' "
   ]
  },
  {
   "cell_type": "code",
   "execution_count": null,
   "id": "71bae728",
   "metadata": {},
   "outputs": [],
   "source": []
  },
  {
   "cell_type": "markdown",
   "id": "9461e99d",
   "metadata": {},
   "source": [
    "**d)** Observando os gráficos desenhados, você diria que o tempo na empresa, o gênero e/ou a satisfação no trabalho tem relação com o gasto diário com o colaborador?"
   ]
  },
  {
   "cell_type": "code",
   "execution_count": 11,
   "id": "2e1940aa",
   "metadata": {},
   "outputs": [
    {
     "data": {
      "text/plain": [
       "array(['2020-02', '2020-03', '2020-04', '2020-05', '2020-06'],\n",
       "      dtype=object)"
      ]
     },
     "execution_count": 11,
     "metadata": {},
     "output_type": "execute_result"
    }
   ],
   "source": [
    "df2['ano_mes'].unique()"
   ]
  },
  {
   "cell_type": "markdown",
   "id": "c564ecde",
   "metadata": {},
   "source": [
    "## Exercício 2\n",
    "\n",
    "**a)** Utilizando a base de dados de covid, crie um gráfico de linhas mostrando a evolução do número de casos novos mês a mês, para as DRS 'Grande São Paulo', 'São José do Rio Preto' e 'Marília'. Identifique os DRS por cores e legenda. Não esqueça de colocar título para o gráfico e para os eixos. "
   ]
  },
  {
   "cell_type": "code",
   "execution_count": 21,
   "id": "1d4c4302",
   "metadata": {},
   "outputs": [
    {
     "data": {
      "text/plain": [
       "0       Marília\n",
       "1       Marília\n",
       "2       Marília\n",
       "3       Marília\n",
       "4       Marília\n",
       "         ...   \n",
       "3220    Marília\n",
       "3221    Marília\n",
       "3222    Marília\n",
       "3223    Marília\n",
       "3224    Marília\n",
       "Name: nome_drs, Length: 3225, dtype: object"
      ]
     },
     "execution_count": 21,
     "metadata": {},
     "output_type": "execute_result"
    }
   ],
   "source": [
    "df2['nome_drs']"
   ]
  },
  {
   "cell_type": "code",
   "execution_count": 31,
   "id": "402322f8",
   "metadata": {},
   "outputs": [
    {
     "data": {
      "text/plain": [
       "ano_mes\n",
       "2020-02    AxesSubplot(0.125,0.125;0.775x0.755)\n",
       "2020-03    AxesSubplot(0.125,0.125;0.775x0.755)\n",
       "2020-04    AxesSubplot(0.125,0.125;0.775x0.755)\n",
       "2020-05    AxesSubplot(0.125,0.125;0.775x0.755)\n",
       "2020-06    AxesSubplot(0.125,0.125;0.775x0.755)\n",
       "dtype: object"
      ]
     },
     "execution_count": 31,
     "metadata": {},
     "output_type": "execute_result"
    },
    {
     "data": {
      "image/png": "[encoded data removed]",
      "text/plain": [
       "<Figure size 432x288 with 1 Axes>"
      ]
     },
     "metadata": {
      "needs_background": "light"
     },
     "output_type": "display_data"
    },
    {
     "data": {
      "image/png": "[encoded data removed]",
      "text/plain": [
       "<Figure size 432x288 with 1 Axes>"
      ]
     },
     "metadata": {
      "needs_background": "light"
     },
     "output_type": "display_data"
    },
    {
     "data": {
      "image/png": "[encoded data removed]",
      "text/plain": [
       "<Figure size 432x288 with 1 Axes>"
      ]
     },
     "metadata": {
      "needs_background": "light"
     },
     "output_type": "display_data"
    },
    {
     "data": {
      "image/png": "[encoded data removed]",
      "text/plain": [
       "<Figure size 432x288 with 1 Axes>"
      ]
     },
     "metadata": {
      "needs_background": "light"
     },
     "output_type": "display_data"
    },
    {
     "data": {
      "image/png": "[encoded data removed]",
      "text/plain": [
       "<Figure size 432x288 with 1 Axes>"
      ]
     },
     "metadata": {
      "needs_background": "light"
     },
     "output_type": "display_data"
    }
   ],
   "source": [
    "drs = ('Grande São Paulo', 'Marília', 'São José do Rio Preto')\n",
    "\n",
    "df2['ano_mes'] = pd.Categorical(df2['ano_mes'], categories=('2020-02', '2020-03', '2020-04', '2020-05', '2020-06'), ordered=True)\n",
    "\n",
    "df2[df2['nome_drs'].isin(drs)].groupby('ano_mes').plot(x='', y='obitos_novos', kind='line')"
   ]
  },
  {
   "cell_type": "markdown",
   "id": "707b9a15",
   "metadata": {},
   "source": [
    "**b)** Repita o gráfico do item a trocando as cores dos DRS."
   ]
  },
  {
   "cell_type": "code",
   "execution_count": 8,
   "id": "281cad3b",
   "metadata": {},
   "outputs": [
    {
     "data": {
      "text/html": [
       "<div>\n",
       "<style scoped>\n",
       "    .dataframe tbody tr th:only-of-type {\n",
       "        vertical-align: middle;\n",
       "    }\n",
       "\n",
       "    .dataframe tbody tr th {\n",
       "        vertical-align: top;\n",
       "    }\n",
       "\n",
       "    .dataframe thead th {\n",
       "        text-align: right;\n",
       "    }\n",
       "</style>\n",
       "<table border=\"1\" class=\"dataframe\">\n",
       "  <thead>\n",
       "    <tr style=\"text-align: right;\">\n",
       "      <th></th>\n",
       "      <th>nome_munic</th>\n",
       "      <th>codigo_ibge</th>\n",
       "      <th>nome_drs</th>\n",
       "      <th>cod_drs</th>\n",
       "      <th>pop</th>\n",
       "      <th>pop_60</th>\n",
       "      <th>ano_mes</th>\n",
       "      <th>casos</th>\n",
       "      <th>casos_novos</th>\n",
       "      <th>obitos</th>\n",
       "      <th>obitos_novos</th>\n",
       "    </tr>\n",
       "  </thead>\n",
       "  <tbody>\n",
       "    <tr>\n",
       "      <th>0</th>\n",
       "      <td>Adamantina</td>\n",
       "      <td>3500105</td>\n",
       "      <td>Marília</td>\n",
       "      <td>5.0</td>\n",
       "      <td>33894.0</td>\n",
       "      <td>7398.0</td>\n",
       "      <td>2020-02</td>\n",
       "      <td>0</td>\n",
       "      <td>0</td>\n",
       "      <td>0</td>\n",
       "      <td>0</td>\n",
       "    </tr>\n",
       "    <tr>\n",
       "      <th>1</th>\n",
       "      <td>Adamantina</td>\n",
       "      <td>3500105</td>\n",
       "      <td>Marília</td>\n",
       "      <td>5.0</td>\n",
       "      <td>33894.0</td>\n",
       "      <td>7398.0</td>\n",
       "      <td>2020-03</td>\n",
       "      <td>0</td>\n",
       "      <td>0</td>\n",
       "      <td>0</td>\n",
       "      <td>0</td>\n",
       "    </tr>\n",
       "    <tr>\n",
       "      <th>2</th>\n",
       "      <td>Adamantina</td>\n",
       "      <td>3500105</td>\n",
       "      <td>Marília</td>\n",
       "      <td>5.0</td>\n",
       "      <td>33894.0</td>\n",
       "      <td>7398.0</td>\n",
       "      <td>2020-04</td>\n",
       "      <td>28</td>\n",
       "      <td>5</td>\n",
       "      <td>0</td>\n",
       "      <td>0</td>\n",
       "    </tr>\n",
       "    <tr>\n",
       "      <th>3</th>\n",
       "      <td>Adamantina</td>\n",
       "      <td>3500105</td>\n",
       "      <td>Marília</td>\n",
       "      <td>5.0</td>\n",
       "      <td>33894.0</td>\n",
       "      <td>7398.0</td>\n",
       "      <td>2020-05</td>\n",
       "      <td>717</td>\n",
       "      <td>34</td>\n",
       "      <td>27</td>\n",
       "      <td>2</td>\n",
       "    </tr>\n",
       "    <tr>\n",
       "      <th>4</th>\n",
       "      <td>Adamantina</td>\n",
       "      <td>3500105</td>\n",
       "      <td>Marília</td>\n",
       "      <td>5.0</td>\n",
       "      <td>33894.0</td>\n",
       "      <td>7398.0</td>\n",
       "      <td>2020-06</td>\n",
       "      <td>163</td>\n",
       "      <td>3</td>\n",
       "      <td>10</td>\n",
       "      <td>1</td>\n",
       "    </tr>\n",
       "    <tr>\n",
       "      <th>...</th>\n",
       "      <td>...</td>\n",
       "      <td>...</td>\n",
       "      <td>...</td>\n",
       "      <td>...</td>\n",
       "      <td>...</td>\n",
       "      <td>...</td>\n",
       "      <td>...</td>\n",
       "      <td>...</td>\n",
       "      <td>...</td>\n",
       "      <td>...</td>\n",
       "      <td>...</td>\n",
       "    </tr>\n",
       "    <tr>\n",
       "      <th>3220</th>\n",
       "      <td>Óleo</td>\n",
       "      <td>3533809</td>\n",
       "      <td>Marília</td>\n",
       "      <td>5.0</td>\n",
       "      <td>2527.0</td>\n",
       "      <td>597.0</td>\n",
       "      <td>2020-02</td>\n",
       "      <td>0</td>\n",
       "      <td>0</td>\n",
       "      <td>0</td>\n",
       "      <td>0</td>\n",
       "    </tr>\n",
       "    <tr>\n",
       "      <th>3221</th>\n",
       "      <td>Óleo</td>\n",
       "      <td>3533809</td>\n",
       "      <td>Marília</td>\n",
       "      <td>5.0</td>\n",
       "      <td>2527.0</td>\n",
       "      <td>597.0</td>\n",
       "      <td>2020-03</td>\n",
       "      <td>0</td>\n",
       "      <td>0</td>\n",
       "      <td>0</td>\n",
       "      <td>0</td>\n",
       "    </tr>\n",
       "    <tr>\n",
       "      <th>3222</th>\n",
       "      <td>Óleo</td>\n",
       "      <td>3533809</td>\n",
       "      <td>Marília</td>\n",
       "      <td>5.0</td>\n",
       "      <td>2527.0</td>\n",
       "      <td>597.0</td>\n",
       "      <td>2020-04</td>\n",
       "      <td>0</td>\n",
       "      <td>0</td>\n",
       "      <td>0</td>\n",
       "      <td>0</td>\n",
       "    </tr>\n",
       "    <tr>\n",
       "      <th>3223</th>\n",
       "      <td>Óleo</td>\n",
       "      <td>3533809</td>\n",
       "      <td>Marília</td>\n",
       "      <td>5.0</td>\n",
       "      <td>2527.0</td>\n",
       "      <td>597.0</td>\n",
       "      <td>2020-05</td>\n",
       "      <td>0</td>\n",
       "      <td>0</td>\n",
       "      <td>0</td>\n",
       "      <td>0</td>\n",
       "    </tr>\n",
       "    <tr>\n",
       "      <th>3224</th>\n",
       "      <td>Óleo</td>\n",
       "      <td>3533809</td>\n",
       "      <td>Marília</td>\n",
       "      <td>5.0</td>\n",
       "      <td>2527.0</td>\n",
       "      <td>597.0</td>\n",
       "      <td>2020-06</td>\n",
       "      <td>0</td>\n",
       "      <td>0</td>\n",
       "      <td>0</td>\n",
       "      <td>0</td>\n",
       "    </tr>\n",
       "  </tbody>\n",
       "</table>\n",
       "<p>3225 rows × 11 columns</p>\n",
       "</div>"
      ],
      "text/plain": [
       "      nome_munic  codigo_ibge nome_drs  cod_drs      pop  pop_60  ano_mes  \\\n",
       "0     Adamantina      3500105  Marília      5.0  33894.0  7398.0  2020-02   \n",
       "1     Adamantina      3500105  Marília      5.0  33894.0  7398.0  2020-03   \n",
       "2     Adamantina      3500105  Marília      5.0  33894.0  7398.0  2020-04   \n",
       "3     Adamantina      3500105  Marília      5.0  33894.0  7398.0  2020-05   \n",
       "4     Adamantina      3500105  Marília      5.0  33894.0  7398.0  2020-06   \n",
       "...          ...          ...      ...      ...      ...     ...      ...   \n",
       "3220        Óleo      3533809  Marília      5.0   2527.0   597.0  2020-02   \n",
       "3221        Óleo      3533809  Marília      5.0   2527.0   597.0  2020-03   \n",
       "3222        Óleo      3533809  Marília      5.0   2527.0   597.0  2020-04   \n",
       "3223        Óleo      3533809  Marília      5.0   2527.0   597.0  2020-05   \n",
       "3224        Óleo      3533809  Marília      5.0   2527.0   597.0  2020-06   \n",
       "\n",
       "      casos  casos_novos  obitos  obitos_novos  \n",
       "0         0            0       0             0  \n",
       "1         0            0       0             0  \n",
       "2        28            5       0             0  \n",
       "3       717           34      27             2  \n",
       "4       163            3      10             1  \n",
       "...     ...          ...     ...           ...  \n",
       "3220      0            0       0             0  \n",
       "3221      0            0       0             0  \n",
       "3222      0            0       0             0  \n",
       "3223      0            0       0             0  \n",
       "3224      0            0       0             0  \n",
       "\n",
       "[3225 rows x 11 columns]"
      ]
     },
     "execution_count": 8,
     "metadata": {},
     "output_type": "execute_result"
    }
   ],
   "source": [
    "df2"
   ]
  },
  {
   "cell_type": "markdown",
   "id": "80a899be",
   "metadata": {},
   "source": [
    "**c)** Considerando apenas os DRS 'Bauru', 'São José do Rio Preto' e 'Marília', faça três gráficos de pizza, para os meses de abril, maio e junho, mostrando a porcentagem de novos óbitos em cada DRS."
   ]
  },
  {
   "cell_type": "code",
   "execution_count": null,
   "id": "d7f5905e",
   "metadata": {},
   "outputs": [],
   "source": [
    "\n"
   ]
  }
 ],
 "metadata": {
  "kernelspec": {
   "display_name": "Python 3 (ipykernel)",
   "language": "python",
   "name": "python3"
  },
  "language_info": {
   "codemirror_mode": {
    "name": "ipython",
    "version": 3
   },
   "file_extension": ".py",
   "mimetype": "text/x-python",
   "name": "python",
   "nbconvert_exporter": "python",
   "pygments_lexer": "ipython3",
   "version": "3.8.8"
  }
 },
 "nbformat": 4,
 "nbformat_minor": 5
}
